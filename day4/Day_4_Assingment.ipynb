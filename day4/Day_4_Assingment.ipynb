{
 "cells": [
  {
   "cell_type": "markdown",
   "metadata": {},
   "source": [
    "Question 1 :\n",
    "Research on whether addition, subtraction, multiplication, division, floor division and modulo\n",
    "operations be performed on complex numbers. Based on your study, implement a Python\n",
    "program to demonstrate these operations."
   ]
  },
  {
   "cell_type": "code",
   "execution_count": 21,
   "metadata": {},
   "outputs": [
    {
     "name": "stdout",
     "output_type": "stream",
     "text": [
      "Select below option to perform any option\n",
      "1.add\n",
      "2.subtract\n",
      "3.multiply\n",
      "4.divison\n",
      "5.modulo\n",
      "5\n",
      "cannot perform mod on complex numbers\n"
     ]
    }
   ],
   "source": [
    "print(\"Select below option to perform any option\")\n",
    "print(\"1.add\\n2.subtract\\n3.multiply\\n4.divison\\n5.modulo\")\n",
    "op = int(input())\n",
    "if op==5:\n",
    "    print(\"cannot perform mod on complex numbers\" )\n",
    "else:\n",
    "    print(\"Enter 1st number in the form of a+bj\")\n",
    "    num1=complex(input())\n",
    "    print(\"Enter 2nd Number in the form of a+bj\")\n",
    "    num2=complex(input())\n",
    "    if op==1:\n",
    "        print(\"addition of {} and {} is {}\".format(num1,num2,num1+num2) )\n",
    "    elif op==2:\n",
    "        print(\"subtraction of {} and {} is {}\".format(num1,num2,num1-num2) )\n",
    "    elif op==3:\n",
    "        print(\"multiplication of {} and {} is {}\".format(num1,num2,num1*num2) )\n",
    "    elif op==4:\n",
    "        print(\"division of {} and {} is {}\".format(num1,num2,num1/num2) )"
   ]
  },
  {
   "cell_type": "markdown",
   "metadata": {},
   "source": [
    "Question 2 :\n",
    "Research on range() functions and its parameters. Create a markdown cell and write in your own\n",
    "words (no copy-paste from google please) what you understand about it. Implement a small\n",
    "program of your choice on the same."
   ]
  },
  {
   "cell_type": "raw",
   "metadata": {},
   "source": [
    "# The range() function returns a sequence of numbers, starting from 0 by default, and increments by 1 (by default), and stops before a specified number.\n",
    "\n",
    "Parmeters are 1.Start 2.Stop 3.step\n",
    "syntax: range(start, stop, step)\n",
    "start:An integer number specifying at which position to start. Default is 0\n",
    "stop:An integer number specifying at which position to stop (not included).\n",
    "step:An integer number specifying the incrementation. Default is 1"
   ]
  },
  {
   "cell_type": "code",
   "execution_count": 22,
   "metadata": {},
   "outputs": [
    {
     "name": "stdout",
     "output_type": "stream",
     "text": [
      "3\n",
      "5\n",
      "7\n",
      "9\n",
      "11\n",
      "13\n",
      "15\n",
      "17\n",
      "19\n"
     ]
    }
   ],
   "source": [
    "#Example program for range fun\n",
    "x = range(3, 20, 2)\n",
    "for n in x:\n",
    "  print(n)"
   ]
  },
  {
   "cell_type": "markdown",
   "metadata": {},
   "source": [
    "Question 3:\n",
    " Consider two numbers. Perform their subtraction and if the result of subtraction is greater than\n",
    "25, print their multiplication result else print their division result."
   ]
  },
  {
   "cell_type": "code",
   "execution_count": 26,
   "metadata": {},
   "outputs": [
    {
     "name": "stdout",
     "output_type": "stream",
     "text": [
      "Enter number1\n",
      "225\n",
      "Enter number2\n",
      "10\n",
      "Multiplication of 225 and 10 is 2250\n"
     ]
    }
   ],
   "source": [
    "print(\"Enter number1\")\n",
    "num1=int(input())\n",
    "print(\"Enter number2\")\n",
    "num2=int(input())\n",
    "if (num1-num2) > 25:\n",
    "    print(\"Multiplication of {} and {} is {}\".format(num1,num2,num1*num2))\n",
    "else:\n",
    "    print(\"Division of {} and {} is {}\".format(num1,num2,num1/num2))\n"
   ]
  },
  {
   "cell_type": "markdown",
   "metadata": {},
   "source": [
    "  "
   ]
  },
  {
   "cell_type": "markdown",
   "metadata": {},
   "source": [
    "Question 4:\n",
    "Consider a list of 10 elements of integer values. If the number in the list is divisible by 2, print the\n",
    "result as \"square of that number minus 2\"."
   ]
  },
  {
   "cell_type": "code",
   "execution_count": 37,
   "metadata": {},
   "outputs": [
    {
     "name": "stdout",
     "output_type": "stream",
     "text": [
      "Enter 0 element of the list\n",
      "2\n",
      "Enter 1 element of the list\n",
      "2\n",
      "Enter 2 element of the list\n",
      "3\n",
      "Enter 3 element of the list\n",
      "2\n",
      "Enter 4 element of the list\n",
      "32\n",
      "Enter 5 element of the list\n",
      "3\n",
      "Enter 6 element of the list\n",
      "2\n",
      "Enter 7 element of the list\n",
      "3\n",
      "Enter 8 element of the list\n",
      "3\n",
      "Enter 9 element of the list\n",
      "2\n",
      "The given List is[2, 2, 3, 2, 32, 3, 2, 3, 3, 2]\n",
      "The Square of 2 minus 2 is 2\n",
      "The Square of 2 minus 2 is 2\n",
      "The Square of 2 minus 2 is 2\n",
      "The Square of 32 minus 2 is 1022\n",
      "The Square of 2 minus 2 is 2\n",
      "The Square of 2 minus 2 is 2\n"
     ]
    }
   ],
   "source": [
    "n = 10\n",
    "lst=[]\n",
    "for i in range (0,n):\n",
    "    print(\"Enter {} element of the list\".format(i))\n",
    "    ele = int(input()) \n",
    "  \n",
    "    lst.append(ele) # adding the element \n",
    "      \n",
    "print(\"The given List is{}\".format(lst)) \n",
    "for x in lst:\n",
    "    if x%2==0:\n",
    "        print(\"The Square of {} minus 2 is {}\".format(x,x**2-2))"
   ]
  },
  {
   "cell_type": "markdown",
   "metadata": {},
   "source": [
    ".."
   ]
  },
  {
   "cell_type": "markdown",
   "metadata": {},
   "source": [
    "Question 5:\n",
    "Consider a list of 10 elements. Print all the elements in the list which are greater than 7 when that\n",
    "number is divided 2."
   ]
  },
  {
   "cell_type": "code",
   "execution_count": 39,
   "metadata": {},
   "outputs": [
    {
     "name": "stdout",
     "output_type": "stream",
     "text": [
      "Enter 0 element of the list\n",
      "1\n",
      "Enter 1 element of the list\n",
      "2\n",
      "Enter 2 element of the list\n",
      "3\n",
      "Enter 3 element of the list\n",
      "4\n",
      "Enter 4 element of the list\n",
      "5\n",
      "Enter 5 element of the list\n",
      "6\n",
      "Enter 6 element of the list\n",
      "7\n",
      "Enter 7 element of the list\n",
      "9\n",
      "Enter 8 element of the list\n",
      "10\n",
      "Enter 9 element of the list\n",
      "17\n",
      "The given List is[1, 2, 3, 4, 5, 6, 7, 9, 10, 17]\n",
      "Result is 17  \n"
     ]
    }
   ],
   "source": [
    "n = 10\n",
    "lst=[]\n",
    "for i in range (0,n):\n",
    "    print(\"Enter {} element of the list\".format(i))\n",
    "    ele = int(input()) \n",
    "  \n",
    "    lst.append(ele) # adding the element \n",
    "      \n",
    "print(\"The given List is{}\".format(lst))\n",
    "for x in lst:\n",
    "    if x/2 > 7:\n",
    "        print(\"Result is {}  \".format(x))"
   ]
  },
  {
   "cell_type": "code",
   "execution_count": null,
   "metadata": {},
   "outputs": [],
   "source": []
  }
 ],
 "metadata": {
  "kernelspec": {
   "display_name": "Python 3",
   "language": "python",
   "name": "python3"
  },
  "language_info": {
   "codemirror_mode": {
    "name": "ipython",
    "version": 3
   },
   "file_extension": ".py",
   "mimetype": "text/x-python",
   "name": "python",
   "nbconvert_exporter": "python",
   "pygments_lexer": "ipython3",
   "version": "3.7.4"
  }
 },
 "nbformat": 4,
 "nbformat_minor": 2
}
