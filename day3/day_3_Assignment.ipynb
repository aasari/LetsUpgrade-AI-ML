{
 "cells": [
  {
   "cell_type": "markdown",
   "metadata": {},
   "source": [
    "Question 1 :\n",
    "Write a program to subtract two complex numbers in Python"
   ]
  },
  {
   "cell_type": "code",
   "execution_count": 2,
   "metadata": {},
   "outputs": [
    {
     "name": "stdout",
     "output_type": "stream",
     "text": [
      "Enter two complex numbers in the form a+bj or a-bj:\n",
      "2+3j\n",
      "3+4j\n",
      "Subtraction of two complex numbers = (-1-1j)\n"
     ]
    }
   ],
   "source": [
    "print(\"Enter two complex numbers in the form a+bj or a-bj:\")\n",
    "n1 = complex(input())\n",
    "n2 = complex(input())\n",
    "print(\"Subtraction of two complex numbers =\", n1 - n2)"
   ]
  },
  {
   "cell_type": "markdown",
   "metadata": {},
   "source": [
    "Question 2 :\n",
    "Write a program to find the fourth root of a number.\n"
   ]
  },
  {
   "cell_type": "code",
   "execution_count": 3,
   "metadata": {},
   "outputs": [
    {
     "name": "stdout",
     "output_type": "stream",
     "text": [
      "Enter a Number to find a 4th root:\n",
      "16\n",
      "The 4th root of 16 is 2.0\n"
     ]
    }
   ],
   "source": [
    "print(\"Enter a Number to find a 4th root:\")\n",
    "Num = int(input())\n",
    "root = Num**(1/4)\n",
    "print('The 4th root of {} is {}'.format(Num,root))"
   ]
  },
  {
   "cell_type": "markdown",
   "metadata": {},
   "source": [
    "Question 3:\n",
    "Write a program to swap two numbers in Python with the help of a temporary variable."
   ]
  },
  {
   "cell_type": "code",
   "execution_count": 4,
   "metadata": {},
   "outputs": [
    {
     "name": "stdout",
     "output_type": "stream",
     "text": [
      "Enter First Number: 24\n",
      "Enter Second Number: 67\n",
      "Value of num1 before swapping:  24\n",
      "Value of num2 before swapping:  67\n",
      "Value of num1 after swapping:  67\n",
      "Value of num2 after swapping:  24\n"
     ]
    }
   ],
   "source": [
    "num1 = input('Enter First Number: ')\n",
    "num2 = input('Enter Second Number: ')\n",
    "\n",
    "print(\"Value of num1 before swapping: \", num1)\n",
    "print(\"Value of num2 before swapping: \", num2)\n",
    "\n",
    "# swapping two numbers using temporary variable\n",
    "temp = num1\n",
    "num1 = num2\n",
    "num2 = temp\n",
    "\n",
    "print(\"Value of num1 after swapping: \", num1)\n",
    "print(\"Value of num2 after swapping: \", num2)"
   ]
  },
  {
   "cell_type": "markdown",
   "metadata": {},
   "source": [
    "Question 4:\n",
    "Write a program to swap two numbers in Python without using a temporary variable.\n"
   ]
  },
  {
   "cell_type": "code",
   "execution_count": 5,
   "metadata": {},
   "outputs": [
    {
     "name": "stdout",
     "output_type": "stream",
     "text": [
      "Enter First Number: 23\n",
      "Enter Second Number: 43\n",
      "Value of num1 before swapping:  23\n",
      "Value of num2 before swapping:  43\n",
      "Value of num1 after swapping:  43\n",
      "Value of num2 after swapping:  23\n"
     ]
    }
   ],
   "source": [
    "# Python program to swap two variables\n",
    "\n",
    "num1 = input('Enter First Number: ')\n",
    "num2 = input('Enter Second Number: ')\n",
    "\n",
    "print(\"Value of num1 before swapping: \", num1)\n",
    "print(\"Value of num2 before swapping: \", num2)\n",
    "\n",
    "# swapping two numbers without using temporary variable\n",
    "num1, num2 = num2, num1\n",
    "\n",
    "print(\"Value of num1 after swapping: \", num1)\n",
    "print(\"Value of num2 after swapping: \", num2)"
   ]
  },
  {
   "cell_type": "markdown",
   "metadata": {},
   "source": [
    "Question 5:\n",
    "Write a program to convert fahrenheit to kelvin and celsius both.\n"
   ]
  },
  {
   "cell_type": "code",
   "execution_count": 6,
   "metadata": {},
   "outputs": [
    {
     "name": "stdout",
     "output_type": "stream",
     "text": [
      "Enter value in Fahrenheit:\n",
      "46\n",
      "After converting Fahrenheit to Celsius and Kelvin\n",
      "Celsius= 7.777777777777778 °C Kelvin= 280.92777777777775 K\n"
     ]
    }
   ],
   "source": [
    "print('Enter value in Fahrenheit:')\n",
    "Fah=int(input())\n",
    "cel = (Fah-32)*5/9\n",
    "print(\"After converting Fahrenheit to Celsius and Kelvin\")\n",
    "print(\"Celsius=\",cel,u\"\\N{DEGREE SIGN}C\", \"Kelvin=\",cel+273.15,\"K\")"
   ]
  },
  {
   "cell_type": "markdown",
   "metadata": {},
   "source": [
    "Question 6:\n",
    "Write a program to demonstrate all the available data types in Python. Hint: Use type() function.\n"
   ]
  },
  {
   "cell_type": "code",
   "execution_count": 7,
   "metadata": {},
   "outputs": [
    {
     "name": "stdout",
     "output_type": "stream",
     "text": [
      "<class 'list'>\n",
      "<class 'int'>\n",
      "<class 'str'>\n",
      "<class 'float'>\n",
      "<class 'complex'>\n",
      "<class 'set'>\n",
      "<class 'tuple'>\n",
      "<class 'bool'>\n"
     ]
    }
   ],
   "source": [
    "lis =[10, \"Python\", 10.5, 2+2j]\n",
    "print(type(lis))\n",
    "for i in lis:\n",
    "    print(type(i))\n",
    "dic = {1, (2,3,4)}\n",
    "tup = (2 , 4)\n",
    "print(type(dic))\n",
    "print(type(tup))\n",
    "print(type(True))  \n"
   ]
  },
  {
   "cell_type": "markdown",
   "metadata": {},
   "source": [
    "Question 7:\n",
    "Create a Markdown cell in jupyter and list the steps discussed in the session by Dr. Darshan\n",
    "Ingle sir to create Github profile and upload Githubs Assignment link."
   ]
  },
  {
   "cell_type": "raw",
   "metadata": {},
   "source": [
    "Github Profile\n",
    "\n",
    "Vist https://github.com/\n",
    "    Register with email and login with creditials\n",
    "    Create a public repo and name it LetsUpgrade AI/ML\n",
    "    Upload the files/solution in the repo in day wise manner.\n",
    "    Copy the URL of the Folder of that day and paste in the Assignment Submission Form\n",
    "    Make sure you are filling correct details in the Assignment Submission Form."
   ]
  },
  {
   "cell_type": "code",
   "execution_count": null,
   "metadata": {},
   "outputs": [],
   "source": []
  }
 ],
 "metadata": {
  "kernelspec": {
   "display_name": "Python 3",
   "language": "python",
   "name": "python3"
  },
  "language_info": {
   "codemirror_mode": {
    "name": "ipython",
    "version": 3
   },
   "file_extension": ".py",
   "mimetype": "text/x-python",
   "name": "python",
   "nbconvert_exporter": "python",
   "pygments_lexer": "ipython3",
   "version": "3.7.4"
  }
 },
 "nbformat": 4,
 "nbformat_minor": 2
}
