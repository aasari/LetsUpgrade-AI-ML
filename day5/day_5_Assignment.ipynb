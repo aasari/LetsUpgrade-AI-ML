{
 "cells": [
  {
   "cell_type": "markdown",
   "metadata": {},
   "source": [
    "Question 1 :\n",
    "Write a Python program to find the first 20 non-even prime natural numbers"
   ]
  },
  {
   "cell_type": "code",
   "execution_count": 10,
   "metadata": {},
   "outputs": [
    {
     "name": "stdout",
     "output_type": "stream",
     "text": [
      "first 20 non-even prime natural numbers are:\n",
      "3\n",
      "5\n",
      "7\n",
      "11\n",
      "13\n",
      "17\n",
      "19\n"
     ]
    }
   ],
   "source": [
    "lower = 1\n",
    "upper = 20\n",
    "\n",
    "print(\"first 20 non-even prime natural numbers are:\")\n",
    "\n",
    "for num in range(lower, upper + 1):\n",
    "   if num > 2:\n",
    "       for i in range(2, num):\n",
    "           if (num % i) == 0:\n",
    "               break\n",
    "       else:\n",
    "           print(num)"
   ]
  },
  {
   "cell_type": "markdown",
   "metadata": {},
   "source": [
    "Question 2 :\n",
    "Write a Python program to implement 15 functions of string."
   ]
  },
  {
   "cell_type": "code",
   "execution_count": 5,
   "metadata": {},
   "outputs": [
    {
     "name": "stdout",
     "output_type": "stream",
     "text": [
      "Enter a string\n",
      "ajhsh@sh.ajhs1\n",
      "1.Converts the first character to upper case: Ajhsh@sh.ajhs1\n",
      "2.Converts string into lower case: ajhsh@sh.ajhs1\n",
      "3.Returns True if all characters in the string are alphanumeric: False\n",
      "4.Returns True if all characters in the string are in the alphabet: False\n",
      "5.Returns True if all characters in the string are decimals: False\n",
      "6.Returns True if all characters in the string are digits: False\n",
      "7.Converts a string into lower case: ajhsh@sh.ajhs1\n",
      "8.Returns a left trim version of the string: ajhsh@sh.ajhs1\n",
      "9.Returns a Right trim version of the string: ajhsh@sh.ajhs1\n",
      "10.Swaps cases, lower case becomes upper case and vice versa: AJHSH@SH.AJHS1\n",
      "11.Converts a string into upper case: AJHSH@SH.AJHS1\n",
      "12. Converts the first character of each word to upper case: Ajhsh@Sh.Ajhs1\n",
      "13. Returns True if all characters in the string are lower case: True\n",
      "14.Returns True if all characters in the string are whitespaces: False\n",
      "15.Returns True if all characters in the string are upper case: False\n"
     ]
    }
   ],
   "source": [
    "print(\"Enter a string\")\n",
    "a = input()\n",
    "print(\"1.Converts the first character to upper case:\", a.capitalize())\n",
    "print(\"2.Converts string into lower case:\",a.casefold())\n",
    "print(\"3.Returns True if all characters in the string are alphanumeric:\", a.isalnum())\n",
    "print(\"4.Returns True if all characters in the string are in the alphabet:\", a.isalpha())\n",
    "print(\"5.Returns True if all characters in the string are decimals:\", a.isdecimal())\n",
    "print(\"6.Returns True if all characters in the string are digits:\", a.isdigit())\n",
    "print(\"7.Converts a string into lower case:\", a.lower())\n",
    "print(\"8.Returns a left trim version of the string:\", a.lstrip())\n",
    "print(\"9.Returns a Right trim version of the string:\", a.rstrip())\n",
    "print(\"10.Swaps cases, lower case becomes upper case and vice versa:\", a.swapcase())\n",
    "print(\"11.Converts a string into upper case:\", a.upper())\n",
    "print(\"12. Converts the first character of each word to upper case:\", a.title())\n",
    "print(\"13. Returns True if all characters in the string are lower case:\", a.islower())\n",
    "print(\"14.Returns True if all characters in the string are whitespaces:\", a.isspace())\n",
    "print(\"15.Returns True if all characters in the string are upper case:\", a.isupper())"
   ]
  },
  {
   "cell_type": "markdown",
   "metadata": {},
   "source": [
    "Question 3:\n",
    "Write a Python program to check if the given string is a Palindrome or Anagram or None of them.\n",
    "Display the message accordingly to the user.\n"
   ]
  },
  {
   "cell_type": "code",
   "execution_count": 4,
   "metadata": {},
   "outputs": [
    {
     "name": "stdout",
     "output_type": "stream",
     "text": [
      "Select any option\n",
      " 1.Palindrome\n",
      " 2.Anagram\n",
      "2\n",
      "Enter 1st String\n",
      "qwerty\n",
      "Enter 2nd String\n",
      "ytrewq\n",
      "the given 'qwerty' is Anagram \n"
     ]
    }
   ],
   "source": [
    "while(1<2):\n",
    "    print(\"Select any option\\n 1.Palindrome\\n 2.Anagram\")\n",
    "    num = int(input())\n",
    "    if num > 2:\n",
    "        print(\"Enter valid option\")\n",
    "    else:\n",
    "        if num==1:\n",
    "            print('Enter a string')\n",
    "            a = input()\n",
    "            b = a[::-1]\n",
    "            if a == b:\n",
    "                print(\"the given '{}' is a Palindrome\".format(a))\n",
    "            elif a!=b:\n",
    "                print(\"the given '{}' is not a Palindrome\".format(a))\n",
    "        elif num==2:\n",
    "            print(\"Enter 1st String\")\n",
    "            s1 = input()\n",
    "            print(\"Enter 2nd String\")\n",
    "            s2 = input()\n",
    "            if (sorted(s1)==sorted(s2)):\n",
    "                print(\"the given '{}' is Anagram \".format(s1))\n",
    "            else:\n",
    "                print(\"the given '{}' is not a Anagram \".format(s1))\n",
    "        break"
   ]
  },
  {
   "cell_type": "markdown",
   "metadata": {},
   "source": [
    "Question 4:\n",
    "Write a Python's user defined function that removes all the additional characters from the string\n",
    "and converts it finally to lower case using built-in lower(). eg: If the string is \"Dr. Darshan Ingle\n",
    "@AI-ML Trainer\", then the output be \"drdarshaningleaimltrainer\""
   ]
  },
  {
   "cell_type": "code",
   "execution_count": 11,
   "metadata": {},
   "outputs": [
    {
     "name": "stdout",
     "output_type": "stream",
     "text": [
      "Enter a string\n",
      "\"Dr. Darshan Ingle @AI-ML Trainer\n",
      "output is: drdarshaningleaimltrainer\n"
     ]
    }
   ],
   "source": [
    "print(\"Enter a string\")\n",
    "st = input()\n",
    "alphanumeric = \"\"\n",
    "for character in st:\n",
    "    if character.isalnum():\n",
    "        alphanumeric += character\n",
    "lw = alphanumeric.lower()\n",
    "print(\"output is:\", lw)"
   ]
  },
  {
   "cell_type": "code",
   "execution_count": null,
   "metadata": {},
   "outputs": [],
   "source": []
  }
 ],
 "metadata": {
  "kernelspec": {
   "display_name": "Python 3",
   "language": "python",
   "name": "python3"
  },
  "language_info": {
   "codemirror_mode": {
    "name": "ipython",
    "version": 3
   },
   "file_extension": ".py",
   "mimetype": "text/x-python",
   "name": "python",
   "nbconvert_exporter": "python",
   "pygments_lexer": "ipython3",
   "version": "3.7.4"
  }
 },
 "nbformat": 4,
 "nbformat_minor": 2
}
